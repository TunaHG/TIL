{
 "cells": [
  {
   "cell_type": "markdown",
   "metadata": {},
   "source": [
    "## 학습목표\n",
    " * 반복문의 이해 및 활용 (while)"
   ]
  },
  {
   "cell_type": "markdown",
   "metadata": {},
   "source": [
    "### loop (반복문)\n",
    " + 반복적인 작업을 가능하게 해주는 도구\n",
    " + 특정 조건을 만족하는 경우 수행할 수 있음 (while)\n",
    " + 리스트, 문자열, 튜플 등 컬렉션 타입의 아이템을 하나씩 순회하면서 사용 가능 (for)\n",
    " + 코드 작업에서, 가장 많이 사용하는 구문 중 하나\n",
    " + 주의할점: while을 사용할 경우, 반복을 멈추게 하는 장치가 필요\n",
    "   + 그렇지 않으면 셀이 무한히 수행되며, jupyter notebook의 재부팅이 필요"
   ]
  },
  {
   "cell_type": "markdown",
   "metadata": {},
   "source": [
    "#### while 키워드\n",
    "  - while 뒤의 조건이 True일 경우, while 코드 블록을 계속 수행\n",
    "  - while 코드 블록\n",
    "    - if와 마찬가지로 while문 아래의 들여쓰기로 작성 된 부분을 의미\n",
    "  - 조건이 False가 되면 블록 수행을 멈추고 이후 코드를 실행"
   ]
  },
  {
   "cell_type": "markdown",
   "metadata": {},
   "source": [
    "#### while 키워드 이용하여 리스트의 아이템 출력하기"
   ]
  },
  {
   "cell_type": "code",
   "execution_count": null,
   "metadata": {},
   "outputs": [],
   "source": [
    "a = [1, 10, 9, 24, 566, 23, 45, 67, 89]\n",
    "\n",
    "i = 0\n",
    "while i < len(a):\n",
    "    print(a[i])\n",
    "    i += 1\n",
    "    \n",
    "print('hahah')"
   ]
  },
  {
   "cell_type": "markdown",
   "metadata": {},
   "source": [
    "#### while 키워드 이용하여 리스트의 아이템 출력하기\n",
    " - 조건문과 함께 사용하기"
   ]
  },
  {
   "cell_type": "code",
   "execution_count": null,
   "metadata": {},
   "outputs": [],
   "source": [
    "a = [1, 10, 9, 24]\n",
    "\n",
    "i = 0\n",
    "while i < len(a):\n",
    "    if a[i] > 20:\n",
    "        print(a[i])\n",
    "    i += 1"
   ]
  },
  {
   "cell_type": "markdown",
   "metadata": {},
   "source": [
    "#### 무한루프\n",
    " - while의 경우 종료가 되지 않도록 코드를 작성하면 블록에서 빠져나올 수 없음"
   ]
  },
  {
   "cell_type": "code",
   "execution_count": null,
   "metadata": {},
   "outputs": [],
   "source": [
    "while True:\n",
    "    print('haha')"
   ]
  },
  {
   "cell_type": "markdown",
   "metadata": {},
   "source": [
    "#### break \n",
    " + loop를 중단할 때 사용\n",
    " + 보통 조건문 안에서 수행되며, 조건을 만족하는 경우 loop를 탈출하기 위해 사용\n",
    " + loop를 중단 하는 경우, while 이후의 코드를 수행"
   ]
  },
  {
   "cell_type": "code",
   "execution_count": null,
   "metadata": {},
   "outputs": [],
   "source": [
    "a = [1, 10, 9, 24, 25, 26]\n",
    "\n",
    "i = 0\n",
    "while i < len(a):\n",
    "    if a[i] > 20:\n",
    "        break\n",
    "        \n",
    "    print(a[i])\n",
    "    \n",
    "    i += 1\n",
    "    \n",
    "print('haha')"
   ]
  },
  {
   "cell_type": "markdown",
   "metadata": {},
   "source": [
    "#### continue\n",
    " + break 처럼 반복을 중단하진 하여 빠져나오지 않고, 다시 while조건으로 점프함\n",
    " + 특정한 경우에는 코드를 수행하지 않고 다음으로 건너 뛰기 위해 사용"
   ]
  },
  {
   "cell_type": "code",
   "execution_count": null,
   "metadata": {},
   "outputs": [],
   "source": [
    "a = 7\n",
    "while a > 0:\n",
    "    a -= 1\n",
    "    if a == 5:\n",
    "        continue\n",
    "    print(a)"
   ]
  }
 ],
 "metadata": {
  "kernelspec": {
   "display_name": "Python 3",
   "language": "python",
   "name": "python3"
  },
  "language_info": {
   "codemirror_mode": {
    "name": "ipython",
    "version": 3
   },
   "file_extension": ".py",
   "mimetype": "text/x-python",
   "name": "python",
   "nbconvert_exporter": "python",
   "pygments_lexer": "ipython3",
   "version": "3.7.3"
  }
 },
 "nbformat": 4,
 "nbformat_minor": 1
}
